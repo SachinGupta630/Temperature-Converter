{
 "cells": [
  {
   "cell_type": "code",
   "execution_count": 2,
   "id": "43c07c22",
   "metadata": {},
   "outputs": [],
   "source": [
    "import tkinter as tk\n",
    "from tkinter import ttk\n",
    "from tkinter.messagebox import showerror\n",
    "\n",
    "root = tk.Tk()                                    # root window \n",
    "root.title('Temperature Converter')\n",
    "root.geometry('640x320')\n",
    "root.resizable(False,False)\n",
    "\n",
    "def fahrenheit_to_celsius(f):\n",
    "    \"Convert fahrenheit to celsius\"\n",
    "    return (f - 32) * 5/9\n",
    "\n",
    "frame = ttk.Frame(root)                          #Frame\n",
    "\n",
    "temperature_label = ttk.Label(frame, text='Fahrenheit')       #Temperature Label\n",
    "temperature_label.grid(column=0, row=0, sticky='W')\n",
    "\n",
    "temperature = tk.StringVar()                                  #Temperature Entry\n",
    "temperature_entry = ttk.Entry(frame, textvariable=temperature)\n",
    "temperature_entry.grid(column=1, row=0,)\n",
    "temperature_entry.focus()\n",
    "\n",
    "def convert_button_clicked():                        #Convert button\n",
    "    \"  Handle convert button click event   \"\n",
    "    try:\n",
    "        f = float(temperature.get())\n",
    "        c = fahrenheit_to_celsius(f)\n",
    "        result = f'{f} Fahrenheit = {c:.2f} Celsius'\n",
    "        result_label.config(text=result)\n",
    "    except ValueError as error:\n",
    "        showerror(title='Error', message=error)\n",
    "\n",
    "\n",
    "convert_button = ttk.Button(frame, text='Convert')         #result\n",
    "convert_button.grid(column=2, row=0, sticky='W')\n",
    "convert_button.configure(command=convert_button_clicked)\n",
    "\n",
    "result_label = ttk.Label(frame)\n",
    "result_label.grid(row=1, columnspan=3)\n",
    "\n",
    "frame.grid(padx=10, pady=10)         # calculate and show it\n",
    "\n",
    "root.mainloop()            # start the app"
   ]
  },
  {
   "cell_type": "code",
   "execution_count": 3,
   "id": "cc7e67a3",
   "metadata": {},
   "outputs": [],
   "source": []
  },
  {
   "cell_type": "code",
   "execution_count": null,
   "id": "fda1a1c1",
   "metadata": {},
   "outputs": [],
   "source": []
  },
  {
   "cell_type": "code",
   "execution_count": null,
   "id": "2b2d7a7a",
   "metadata": {},
   "outputs": [],
   "source": []
  }
 ],
 "metadata": {
  "kernelspec": {
   "display_name": "Python 3 (ipykernel)",
   "language": "python",
   "name": "python3"
  },
  "language_info": {
   "codemirror_mode": {
    "name": "ipython",
    "version": 3
   },
   "file_extension": ".py",
   "mimetype": "text/x-python",
   "name": "python",
   "nbconvert_exporter": "python",
   "pygments_lexer": "ipython3",
   "version": "3.9.7"
  }
 },
 "nbformat": 4,
 "nbformat_minor": 5
}
